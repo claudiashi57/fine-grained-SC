{
 "cells": [
  {
   "cell_type": "code",
   "execution_count": 1,
   "id": "sonic-gamma",
   "metadata": {},
   "outputs": [],
   "source": [
    "import matplotlib.pyplot as plt\n",
    "import numpy as np\n",
    "import pandas as pd\n",
    "import plotnine as p9\n",
    "import os\n",
    "from plotnine import *\n",
    "from glob import glob\n",
    "from pathlib import Path\n",
    "from dgp import *\n",
    "palette = ['#D55E00', '#E69F00', '#0072B2',\n",
    "                  '#009E73', '#F0E442', '#CC79A7', '#56B4E9']"
   ]
  },
  {
   "cell_type": "markdown",
   "id": "brazilian-answer",
   "metadata": {},
   "source": [
    "examine the influence of including suitable covariates versus unsuitable auxiliary covariate on the estimation quality"
   ]
  },
  {
   "cell_type": "code",
   "execution_count": 2,
   "id": "appointed-vanilla",
   "metadata": {
    "scrolled": false
   },
   "outputs": [
    {
     "name": "stdout",
     "output_type": "stream",
     "text": [
      "0\n",
      "10\n",
      "20\n",
      "30\n",
      "40\n",
      "50\n",
      "60\n",
      "70\n",
      "80\n",
      "90\n"
     ]
    }
   ],
   "source": [
    "s=5; k=12; n=2000; e=5\n",
    "T=15\n",
    "sim= 100\n",
    "Train1, Test1=[], []\n",
    "Train2, Test2=[], []\n",
    "Train3, Test3=[], []\n",
    "\n",
    "for i in range(sim):\n",
    "    if i %10 == 0:\n",
    "        print(i)\n",
    "    np.random.seed(i)\n",
    "    Probs = gen_Probs(e,k, s)\n",
    "    base = make_matrix(Probs, k, T, n,  summary='aggregate')\n",
    "    \n",
    "    #suitable auxiliary covariates\n",
    "    correct = make_matrix(Probs, k, T, n,  summary='aux_good')\n",
    "    \n",
    "   #unsuitable auxiliary covariates\n",
    "    incorrect =make_matrix(Probs, k, T, n,  summary='aux_bad')\n",
    "\n",
    "    train = int(3*T/4)\n",
    "    a = 10\n",
    "    matrix1 = np.concatenate([base[:,:train],correct[:,:a],base[:,train:] ],1)\n",
    "    matrix2 = np.concatenate([base[:,:train],incorrect[:,:a],base[:,train:]],1)\n",
    "\n",
    "    train_loss, test_loss = fit_regression(base,T)\n",
    "    Train1.append(train_loss)\n",
    "    Test1.append(test_loss)\n",
    "\n",
    "    train_loss, test_loss = fit_regression(matrix1,T, aux=True, train=train+a)\n",
    "    Train2.append(train_loss)\n",
    "    Test2.append(test_loss)\n",
    "\n",
    "    train_loss, test_loss = fit_regression(matrix2,T,aux=True, train=train+a)\n",
    "    Train3.append(train_loss)\n",
    "    Test3.append(test_loss)\n"
   ]
  },
  {
   "cell_type": "code",
   "execution_count": 3,
   "id": "embedded-reynolds",
   "metadata": {},
   "outputs": [
    {
     "name": "stdout",
     "output_type": "stream",
     "text": [
      "base correct incorrect\n"
     ]
    }
   ],
   "source": [
    "print(\"base\", \"correct\", \"incorrect\")"
   ]
  },
  {
   "cell_type": "code",
   "execution_count": 4,
   "id": "provincial-dakota",
   "metadata": {},
   "outputs": [
    {
     "name": "stdout",
     "output_type": "stream",
     "text": [
      "[0.07021782 0.0593775  0.06010444]\n"
     ]
    }
   ],
   "source": [
    "mean_train = np.array([np.mean(Train1),np.mean(Train2), np.mean(Train3)])\n",
    "print(mean_train)"
   ]
  },
  {
   "cell_type": "code",
   "execution_count": 5,
   "id": "republican-refrigerator",
   "metadata": {},
   "outputs": [
    {
     "name": "stdout",
     "output_type": "stream",
     "text": [
      "[0.03279482 0.02377802 0.02513502]\n"
     ]
    }
   ],
   "source": [
    "stds_train = np.array([np.std(Train1),np.std(Train2), np.std(Train3)])/np.sqrt(sim)\n",
    "print(stds_train)"
   ]
  },
  {
   "cell_type": "code",
   "execution_count": 6,
   "id": "collaborative-interstate",
   "metadata": {},
   "outputs": [
    {
     "name": "stdout",
     "output_type": "stream",
     "text": [
      "[0.13856225 0.12660487 0.24094514]\n"
     ]
    }
   ],
   "source": [
    "mean_test = np.array([np.mean(Test1),np.mean(Test2), np.mean(Test3)])\n",
    "print(mean_test)"
   ]
  },
  {
   "cell_type": "code",
   "execution_count": 7,
   "id": "adolescent-clause",
   "metadata": {},
   "outputs": [
    {
     "name": "stdout",
     "output_type": "stream",
     "text": [
      "[0.05604693 0.05199067 0.12576903]\n"
     ]
    }
   ],
   "source": [
    "std_test = np.array([np.std(Test1),np.std(Test2), np.std(Test3)])/np.sqrt(sim)\n",
    "print(std_test)"
   ]
  }
 ],
 "metadata": {
  "kernelspec": {
   "display_name": "pytorch_x86",
   "language": "python",
   "name": "pytorch_x86"
  },
  "language_info": {
   "codemirror_mode": {
    "name": "ipython",
    "version": 3
   },
   "file_extension": ".py",
   "mimetype": "text/x-python",
   "name": "python",
   "nbconvert_exporter": "python",
   "pygments_lexer": "ipython3",
   "version": "3.8.8"
  }
 },
 "nbformat": 4,
 "nbformat_minor": 5
}
